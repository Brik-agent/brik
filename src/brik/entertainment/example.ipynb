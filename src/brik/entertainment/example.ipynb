{
 "cells": [
  {
   "cell_type": "code",
   "execution_count": 3,
   "metadata": {},
   "outputs": [],
   "source": [
    "# Initialize tools with API keys\n",
    "from brik import GifSearchTool, JokeTool, SpotifyTool, TriviaTool\n",
    "gif_tool = GifSearchTool(api_key=\"your_giphy_api_key\")\n",
    "spotify_tool = SpotifyTool(client_id=\"your_spotify_client_id\", client_secret=\"your_spotify_client_secret\")\n",
    "\n",
    "# No API key needed\n",
    "joke_tool = JokeTool()\n",
    "trivia_tool = TriviaTool()"
   ]
  },
  {
   "cell_type": "code",
   "execution_count": 4,
   "metadata": {},
   "outputs": [
    {
     "name": "stdout",
     "output_type": "stream",
     "text": [
      "How do you know if there’s an elephant under your bed? - Your head hits the ceiling!\n",
      "{'question': 'What year did &quot;Attack on Titan&quot; Season 2 begin airing?', 'options': ['2018', '2019', '2020', '2017'], 'answer': '2017'}\n"
     ]
    }
   ],
   "source": [
    "# Example calls\n",
    "# print(gif_tool.forward(\"funny cat\"))\n",
    "print(joke_tool.forward())\n",
    "# print(spotify_tool.forward(\"Blinding Lights\"))\n",
    "print(trivia_tool.forward())\n"
   ]
  },
  {
   "cell_type": "code",
   "execution_count": null,
   "metadata": {},
   "outputs": [],
   "source": []
  }
 ],
 "metadata": {
  "kernelspec": {
   "display_name": "myenv",
   "language": "python",
   "name": "python3"
  },
  "language_info": {
   "codemirror_mode": {
    "name": "ipython",
    "version": 3
   },
   "file_extension": ".py",
   "mimetype": "text/x-python",
   "name": "python",
   "nbconvert_exporter": "python",
   "pygments_lexer": "ipython3",
   "version": "3.11.11"
  }
 },
 "nbformat": 4,
 "nbformat_minor": 2
}
