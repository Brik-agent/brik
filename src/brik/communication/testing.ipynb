{
 "cells": [
  {
   "cell_type": "code",
   "execution_count": 2,
   "metadata": {},
   "outputs": [
    {
     "name": "stderr",
     "output_type": "stream",
     "text": [
      "/home/user/miniconda/envs/myenv/lib/python3.11/site-packages/tqdm/auto.py:21: TqdmWarning: IProgress not found. Please update jupyter and ipywidgets. See https://ipywidgets.readthedocs.io/en/stable/user_install.html\n",
      "  from .autonotebook import tqdm as notebook_tqdm\n"
     ]
    }
   ],
   "source": [
    "from brik import SendWhatsAppMessageTool"
   ]
  },
  {
   "cell_type": "code",
   "execution_count": 4,
   "metadata": {},
   "outputs": [],
   "source": [
    "from smolagents import LiteLLMModel\n",
    "model = LiteLLMModel(\n",
    "    \"gpt-4o-mini\",\n",
    "    temperature=0.2,\n",
    "    api_key=os.environ[\"OPENAI_API_KEY\"]\n",
    ")"
   ]
  },
  {
   "cell_type": "code",
   "execution_count": 14,
   "metadata": {},
   "outputs": [],
   "source": [
    "whatsapp_tool = SendWhatsAppMessageTool(\n",
    "    account_sid=\"XXXXX\",\n",
    "    auth_token=\"XXXXXX\",\n",
    "    from_number=\"+XXXXXX\"\n",
    ")\n"
   ]
  },
  {
   "cell_type": "code",
   "execution_count": 15,
   "metadata": {},
   "outputs": [],
   "source": [
    "to_number = \"+XXXXXXX\"\n",
    "response = whatsapp_tool.forward(to=to_number, message=\"Hello, this is a test from Brik!\")"
   ]
  },
  {
   "cell_type": "code",
   "execution_count": 13,
   "metadata": {},
   "outputs": [
    {
     "data": {
      "text/plain": [
       "'Failed to send WhatsApp message: HTTP 400 error: Unable to create record: Twilio could not find a Channel with the specified From address'"
      ]
     },
     "execution_count": 13,
     "metadata": {},
     "output_type": "execute_result"
    }
   ],
   "source": [
    "response"
   ]
  },
  {
   "cell_type": "code",
   "execution_count": null,
   "metadata": {},
   "outputs": [],
   "source": []
  },
  {
   "cell_type": "code",
   "execution_count": 16,
   "metadata": {},
   "outputs": [],
   "source": [
    "from smolagents import CodeAgent\n",
    "agent = CodeAgent(\n",
    "    tools=[whatsapp_tool],\n",
    "    model=model\n",
    ")"
   ]
  },
  {
   "cell_type": "code",
   "execution_count": null,
   "metadata": {},
   "outputs": [],
   "source": [
    "agent.run(\"Send a WhatsApp message to +97450146660 be creative and say something nice!\")"
   ]
  },
  {
   "cell_type": "code",
   "execution_count": 2,
   "metadata": {},
   "outputs": [],
   "source": [
    "webhook_url = \"xxxxxxxxxx\""
   ]
  },
  {
   "cell_type": "code",
   "execution_count": 3,
   "metadata": {},
   "outputs": [
    {
     "name": "stdout",
     "output_type": "stream",
     "text": [
      "Message successfully sent to Slack channel.\n"
     ]
    }
   ],
   "source": [
    "from brik import SendSlackMessageTool\n",
    "\n",
    "# Initialize the Slack Tool\n",
    "slack_tool = SendSlackMessageTool()\n",
    "\n",
    "# Define test parameters\n",
    "test_webhook_url = webhook_url\n",
    "test_message = \"*Hello i'm an agent!* I'll be giving weekly updates about new schools on board!.\"\n",
    "test_attachments = [{\"title\": \"Important Update\", \"text\": \"The deployment was successful!\", \"color\": \"#FF5733\"}]\n",
    "test_buttons = [\n",
    "    {\"text\": \"View Logs\", \"value\": \"logs\", \"action_id\": \"view_logs\"},\n",
    "    {\"text\": \"Restart\", \"value\": \"restart\", \"action_id\": \"restart_server\"}\n",
    "]\n",
    "\n",
    "# Run the test\n",
    "response = slack_tool.forward(\n",
    "    webhook_url=test_webhook_url,\n",
    "    message=test_message,\n",
    "    attachments=test_attachments,\n",
    "    buttons=test_buttons\n",
    ")\n",
    "\n",
    "# Print the response\n",
    "print(response)\n"
   ]
  },
  {
   "cell_type": "code",
   "execution_count": null,
   "metadata": {},
   "outputs": [],
   "source": []
  }
 ],
 "metadata": {
  "kernelspec": {
   "display_name": "myenv",
   "language": "python",
   "name": "python3"
  },
  "language_info": {
   "codemirror_mode": {
    "name": "ipython",
    "version": 3
   },
   "file_extension": ".py",
   "mimetype": "text/x-python",
   "name": "python",
   "nbconvert_exporter": "python",
   "pygments_lexer": "ipython3",
   "version": "3.11.11"
  }
 },
 "nbformat": 4,
 "nbformat_minor": 2
}
